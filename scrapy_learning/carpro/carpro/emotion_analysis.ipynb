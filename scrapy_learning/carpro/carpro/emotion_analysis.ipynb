{
 "cells": [
  {
   "cell_type": "code",
   "execution_count": 2,
   "metadata": {
    "collapsed": true,
    "pycharm": {
     "name": "#%%\n"
    }
   },
   "outputs": [
    {
     "name": "stdout",
     "output_type": "stream",
     "text": [
      "`jio.help()` is provided to search how to use jio functions.\n",
      "Or browse `https://github.com/dongrixinyu/JioNLP` to get help.\n",
      "# jiojio - Failed to load C funcs, use py func instead.\n"
     ]
    }
   ],
   "source": [
    "import pandas as pd\n",
    "import time\n",
    "import urllib.request\n",
    "import urllib.parse\n",
    "import json\n",
    "import hashlib\n",
    "import base64\n",
    "import matplotlib.pyplot as plt\n",
    "import jionlp as jio\n",
    "import re\n",
    "\n",
    "pd.set_option('display.max_columns', None)\n",
    "pd.set_option('display.max_rows', None)"
   ]
  },
  {
   "cell_type": "code",
   "execution_count": 3,
   "outputs": [],
   "source": [
    "## load data\n",
    "comment = pd.read_csv('/Users/tunan/Code/Python/reptile/scrapy_learning/carpro/carpro/spiders/id4_comment.csv')"
   ],
   "metadata": {
    "collapsed": false,
    "pycharm": {
     "name": "#%%\n"
    }
   }
  },
  {
   "cell_type": "code",
   "execution_count": 4,
   "outputs": [
    {
     "name": "stdout",
     "output_type": "stream",
     "text": [
      "<class 'pandas.core.frame.DataFrame'>\n",
      "RangeIndex: 90 entries, 0 to 89\n",
      "Data columns (total 4 columns):\n",
      " #   Column      Non-Null Count  Dtype  \n",
      "---  ------      --------------  -----  \n",
      " 0   Unnamed: 0  90 non-null     int64  \n",
      " 1   name        90 non-null     object \n",
      " 2   comment     90 non-null     object \n",
      " 3   mark        90 non-null     float64\n",
      "dtypes: float64(1), int64(1), object(2)\n",
      "memory usage: 2.9+ KB\n"
     ]
    }
   ],
   "source": [
    "## data exploration\n",
    "\n",
    "comment = pd.DataFrame(comment)\n",
    "\n",
    "comment.info()"
   ],
   "metadata": {
    "collapsed": false,
    "pycharm": {
     "name": "#%%\n"
    }
   }
  },
  {
   "cell_type": "code",
   "execution_count": 7,
   "outputs": [
    {
     "data": {
      "text/plain": "                                               name  \\\n0  \\n              2022款ID.4 X 智享长续航版\\n               \n1  \\n              2022款ID.4 X 纯净长续航版\\n               \n2  \\n              2022款ID.4 X 极智长续航版\\n               \n3   \\n              2022款ID.4 X 劲能四驱版\\n               \n4  \\n              2022款ID.4 X 智享长续航版\\n               \n\n                                             comment  mark  \n0  写完回头写下这篇文字，原来写了这么多。献给一些心动但又想得到中肯建议的人。\\n\\n先说外观，...  4.14  \n1  外观，内饰都是我能接受的比较中庸，但也是比较排上风格。不激进，不寒碜。\\n电动车，首先他是一...  3.86  \n2  外观：颜值符合我的审美，家人也都说好看，耐看。原来已经订了宋plus ev的，看到id4x的...  4.07  \n3  外观方面：\\n车身线条营造出饱满的样子显车子很大，前脸和尾部的贯穿式车灯效果很棒，特别是晚上...  3.86  \n4  首先说一下，下定ID4之前也对比了很多车型，但是最终还是选择上汽大众ID4，3.25下定  ...  4.43  ",
      "text/html": "<div>\n<style scoped>\n    .dataframe tbody tr th:only-of-type {\n        vertical-align: middle;\n    }\n\n    .dataframe tbody tr th {\n        vertical-align: top;\n    }\n\n    .dataframe thead th {\n        text-align: right;\n    }\n</style>\n<table border=\"1\" class=\"dataframe\">\n  <thead>\n    <tr style=\"text-align: right;\">\n      <th></th>\n      <th>name</th>\n      <th>comment</th>\n      <th>mark</th>\n    </tr>\n  </thead>\n  <tbody>\n    <tr>\n      <th>0</th>\n      <td>\\n              2022款ID.4 X 智享长续航版\\n</td>\n      <td>写完回头写下这篇文字，原来写了这么多。献给一些心动但又想得到中肯建议的人。\\n\\n先说外观，...</td>\n      <td>4.14</td>\n    </tr>\n    <tr>\n      <th>1</th>\n      <td>\\n              2022款ID.4 X 纯净长续航版\\n</td>\n      <td>外观，内饰都是我能接受的比较中庸，但也是比较排上风格。不激进，不寒碜。\\n电动车，首先他是一...</td>\n      <td>3.86</td>\n    </tr>\n    <tr>\n      <th>2</th>\n      <td>\\n              2022款ID.4 X 极智长续航版\\n</td>\n      <td>外观：颜值符合我的审美，家人也都说好看，耐看。原来已经订了宋plus ev的，看到id4x的...</td>\n      <td>4.07</td>\n    </tr>\n    <tr>\n      <th>3</th>\n      <td>\\n              2022款ID.4 X 劲能四驱版\\n</td>\n      <td>外观方面：\\n车身线条营造出饱满的样子显车子很大，前脸和尾部的贯穿式车灯效果很棒，特别是晚上...</td>\n      <td>3.86</td>\n    </tr>\n    <tr>\n      <th>4</th>\n      <td>\\n              2022款ID.4 X 智享长续航版\\n</td>\n      <td>首先说一下，下定ID4之前也对比了很多车型，但是最终还是选择上汽大众ID4，3.25下定  ...</td>\n      <td>4.43</td>\n    </tr>\n  </tbody>\n</table>\n</div>"
     },
     "execution_count": 7,
     "metadata": {},
     "output_type": "execute_result"
    }
   ],
   "source": [
    "comment = comment[['name', 'comment', 'mark']]\n",
    "comment.head(5)"
   ],
   "metadata": {
    "collapsed": false,
    "pycharm": {
     "name": "#%%\n"
    }
   }
  },
  {
   "cell_type": "code",
   "execution_count": 9,
   "outputs": [
    {
     "data": {
      "text/plain": "name       90\ncomment    90\nmark       90\ndtype: int64"
     },
     "execution_count": 9,
     "metadata": {},
     "output_type": "execute_result"
    }
   ],
   "source": [
    "comment.count()"
   ],
   "metadata": {
    "collapsed": false,
    "pycharm": {
     "name": "#%%\n"
    }
   }
  },
  {
   "cell_type": "code",
   "execution_count": 20,
   "outputs": [
    {
     "data": {
      "text/plain": "            mark\ncount  90.000000\nmean    4.033333\nstd     0.361374\nmin     2.500000\n25%     3.860000\n50%     3.930000\n75%     4.192500\nmax     4.930000",
      "text/html": "<div>\n<style scoped>\n    .dataframe tbody tr th:only-of-type {\n        vertical-align: middle;\n    }\n\n    .dataframe tbody tr th {\n        vertical-align: top;\n    }\n\n    .dataframe thead th {\n        text-align: right;\n    }\n</style>\n<table border=\"1\" class=\"dataframe\">\n  <thead>\n    <tr style=\"text-align: right;\">\n      <th></th>\n      <th>mark</th>\n    </tr>\n  </thead>\n  <tbody>\n    <tr>\n      <th>count</th>\n      <td>90.000000</td>\n    </tr>\n    <tr>\n      <th>mean</th>\n      <td>4.033333</td>\n    </tr>\n    <tr>\n      <th>std</th>\n      <td>0.361374</td>\n    </tr>\n    <tr>\n      <th>min</th>\n      <td>2.500000</td>\n    </tr>\n    <tr>\n      <th>25%</th>\n      <td>3.860000</td>\n    </tr>\n    <tr>\n      <th>50%</th>\n      <td>3.930000</td>\n    </tr>\n    <tr>\n      <th>75%</th>\n      <td>4.192500</td>\n    </tr>\n    <tr>\n      <th>max</th>\n      <td>4.930000</td>\n    </tr>\n  </tbody>\n</table>\n</div>"
     },
     "execution_count": 20,
     "metadata": {},
     "output_type": "execute_result"
    }
   ],
   "source": [
    "comment.describe()\n"
   ],
   "metadata": {
    "collapsed": false,
    "pycharm": {
     "name": "#%%\n"
    }
   }
  },
  {
   "cell_type": "code",
   "execution_count": 49,
   "outputs": [],
   "source": [
    "# emotion choice api\n",
    "def emotion(url,x_appid,api_key,text):\n",
    "    body = urllib.parse.urlencode({'text': text}).encode('utf-8')\n",
    "    param = {\"type\": \"dependent\"}\n",
    "    x_param = base64.b64encode(json.dumps(param).replace(' ', '').encode('utf-8'))\n",
    "    x_time = str(int(time.time()))\n",
    "    x_checksum = hashlib.md5(api_key.encode('utf-8') + str(x_time).encode('utf-8') + x_param).hexdigest()\n",
    "    x_header = {'X-Appid': x_appid,\n",
    "                'X-CurTime': x_time,\n",
    "                'X-Param': x_param,\n",
    "                'X-CheckSum': x_checksum}\n",
    "    req = urllib.request.Request(url, body, x_header)\n",
    "    result = urllib.request.urlopen(req)\n",
    "    result = result.read()\n",
    "    # print(result.decode('utf-8'))\n",
    "    return result\n"
   ],
   "metadata": {
    "collapsed": false,
    "pycharm": {
     "name": "#%%\n"
    }
   }
  },
  {
   "cell_type": "code",
   "execution_count": null,
   "outputs": [],
   "source": [
    "url = 'http://ltpapi.xfyun.cn/v2/sa'\n",
    "x_appid = '26938d57'\n",
    "api_key = '91efbf93df628100dd68f92ddf0e09ec'\n",
    "\n",
    "mark_list = []\n",
    "for i in range(len(comment)):\n",
    "    mark_dic = {}\n",
    "    text = comment['comment'].iloc[i]\n",
    "    res = jio.split_sentence(text, criterion='fine')\n",
    "    for phrase in res:\n",
    "        phrase.replace('\\n', '')\n",
    "        result = emotion(url,x_appid,api_key,phrase)\n",
    "        data = json.loads(result.decode('utf-8'))\n",
    "        if data['code'] == 0:\n",
    "            print(data['data'])\n",
    "            # mark_dic.setdefault(i, []).append(data['sentiment'])\n",
    "    # print(mark_dic)"
   ],
   "metadata": {
    "collapsed": false,
    "pycharm": {
     "name": "#%%\n",
     "is_executing": true
    }
   }
  },
  {
   "cell_type": "code",
   "execution_count": null,
   "outputs": [],
   "source": [
    "\n",
    "\n"
   ],
   "metadata": {
    "collapsed": false,
    "pycharm": {
     "name": "#%%\n"
    }
   }
  }
 ],
 "metadata": {
  "kernelspec": {
   "name": "pycharm-b4bbc1b",
   "language": "python",
   "display_name": "PyCharm (reptile)"
  },
  "language_info": {
   "codemirror_mode": {
    "name": "ipython",
    "version": 2
   },
   "file_extension": ".py",
   "mimetype": "text/x-python",
   "name": "python",
   "nbconvert_exporter": "python",
   "pygments_lexer": "ipython2",
   "version": "2.7.6"
  }
 },
 "nbformat": 4,
 "nbformat_minor": 0
}